{
 "cells": [
  {
   "cell_type": "code",
   "execution_count": 1,
   "metadata": {},
   "outputs": [],
   "source": [
    "import cv2\n",
    "import numpy as np\n",
    "import matplotlib.pyplot as plt\n"
   ]
  },
  {
   "cell_type": "code",
   "execution_count": 3,
   "metadata": {},
   "outputs": [],
   "source": [
    "# arithmetic operators using with opencv library is adding and substracting matices from image to increse and decrese brightness or intensity \n",
    "\n",
    "image= cv2.imread(\"./Dev-S.jpg\")\n",
    "# [75, 75, 75],\n",
    "# [75, 75, 75],\n",
    "# [75, 75, 75],\n",
    "m = np.ones(image.shape, dtype = \"uint8\") * 180 # scaler = 75 \n",
    "added = cv2.add(image, m)\n",
    "cv2.imshow(\"added\",added)\n",
    "\n",
    "subtracted = cv2.subtract(image, m)\n",
    "cv2.imshow(\"subtracted\",subtracted)\n",
    "\n",
    "cv2.waitKey()\n",
    "cv2.destroyAllWindows()\n"
   ]
  },
  {
   "cell_type": "markdown",
   "metadata": {},
   "source": [
    "# bitwise operators or masking "
   ]
  },
  {
   "cell_type": "code",
   "execution_count": 3,
   "metadata": {},
   "outputs": [],
   "source": [
    "\n",
    "\n",
    "square = np.zeros((300,300),np.uint8)\n",
    "cv2.rectangle(square,(50,50),(250,250),255,-2)\n",
    "cv2.imshow(\"square\",square)\n",
    "cv2.waitKey(0)\n",
    "# circle = np.zeros((300,300) ,np.uint8)\n",
    "# cv2.circle(circle,(150,150),63,(255,255,255),-1) \n",
    "# cv2.imshow(\"shapes\",circle)\n",
    "\n",
    "ellipsis = np.zeros((300,300),np.uint8)\n",
    "cv2.ellipse(ellipsis,(150,150),(150,150),30,0,180,255,-1)\n",
    "cv2.imshow(\"shapes\",ellipsis)\n",
    "cv2.waitKey(0)\n",
    "cv2.destroyAllWindows()"
   ]
  },
  {
   "cell_type": "code",
   "execution_count": 4,
   "metadata": {},
   "outputs": [],
   "source": [
    "AND = cv2.bitwise_and(square,ellipsis) # intersection of images \n",
    "cv2.imshow(\"AND\",AND)\n",
    "cv2.waitKey(0)\n",
    "\n",
    "# shows both image with overlapping\n",
    "OR = cv2.bitwise_or(square,ellipsis)\n",
    "cv2.imshow(\"OR\",OR)\n",
    "cv2.waitKey(0)\n",
    "# shows witout interect part of the image\n",
    "XOR = cv2.bitwise_xor(square,ellipsis)\n",
    "cv2.imshow(\"XOR\",XOR)\n",
    "cv2.waitKey(0)\n",
    "# doing inverse but taking one image   \n",
    "NOT = cv2.bitwise_not(square)\n",
    "cv2.imshow(\"NOT\",NOT)\n",
    "cv2.waitKey(0)\n",
    "cv2.destroyAllWindows()"
   ]
  },
  {
   "cell_type": "markdown",
   "metadata": {},
   "source": [
    "### kernel\n",
    "kernel_15x15 = np.ones((15,15),np.float32)/225"
   ]
  },
  {
   "cell_type": "code",
   "execution_count": 8,
   "metadata": {},
   "outputs": [],
   "source": [
    "# image blurring\n",
    "kernel_3x3 = np.ones((3,3),np.float32)/9\n",
    "\n",
    "blurred = cv2.filter2D(image,-1,kernel_3x3)\n",
    "cv2.imshow(\"3x3 kernel blurred\",blurred)\n",
    "cv2.waitKey(0)\n",
    "kernel_7x7 = np.ones((7,7),np.float32)/49\n",
    "blurred2 = cv2.filter2D(image,-1,kernel_7x7)\n",
    "cv2.imshow(\"7x7 kernel blurred\",blurred2)\n",
    "cv2.waitKey(0)\n",
    "cv2.destroyAllWindows()"
   ]
  },
  {
   "cell_type": "code",
   "execution_count": null,
   "metadata": {},
   "outputs": [],
   "source": [
    "# normalized box filter = average the pixel of neighborhood by kernel size \n"
   ]
  }
 ],
 "metadata": {
  "kernelspec": {
   "display_name": "cv",
   "language": "python",
   "name": "python3"
  },
  "language_info": {
   "codemirror_mode": {
    "name": "ipython",
    "version": 3
   },
   "file_extension": ".py",
   "mimetype": "text/x-python",
   "name": "python",
   "nbconvert_exporter": "python",
   "pygments_lexer": "ipython3",
   "version": "3.11.4"
  }
 },
 "nbformat": 4,
 "nbformat_minor": 2
}
