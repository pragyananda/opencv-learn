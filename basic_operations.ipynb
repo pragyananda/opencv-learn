{
 "cells": [
  {
   "cell_type": "code",
   "execution_count": 2,
   "metadata": {},
   "outputs": [],
   "source": [
    "# basic operations in opencv\n",
    "import cv2 \n",
    "import numpy as np\n",
    "import matplotlib.pyplot as plt"
   ]
  },
  {
   "cell_type": "code",
   "execution_count": 3,
   "metadata": {},
   "outputs": [],
   "source": [
    "input = cv2.imread(\"./Dev-S.jpg\") # read Image\n",
    "cv2.imshow(\"image_name\",input)\n",
    "cv2.waitKey()\n",
    "cv2.destroyAllWindows()\n"
   ]
  },
  {
   "cell_type": "code",
   "execution_count": null,
   "metadata": {},
   "outputs": [],
   "source": [
    "input = cv2.imread(\"./Dev-S.jpg\") # read Image\n",
    "cv2.imshow(\"image_name\",input)\n",
    "cv2.waitKey()\n",
    "cv2.destroyAllWindows()\n"
   ]
  },
  {
   "cell_type": "code",
   "execution_count": 20,
   "metadata": {},
   "outputs": [
    {
     "name": "stdout",
     "output_type": "stream",
     "text": [
      "(426, 900, 3)\n"
     ]
    }
   ],
   "source": [
    "print(input.shape) #height,width,channels"
   ]
  },
  {
   "cell_type": "code",
   "execution_count": 8,
   "metadata": {},
   "outputs": [
    {
     "name": "stdout",
     "output_type": "stream",
     "text": [
      "height 426\n",
      "width 900\n"
     ]
    }
   ],
   "source": [
    "print(\"height\",int(input.shape[0]))\n",
    "print(\"width\",int(input.shape[1]))"
   ]
  },
  {
   "cell_type": "code",
   "execution_count": 10,
   "metadata": {},
   "outputs": [
    {
     "data": {
      "text/plain": [
       "True"
      ]
     },
     "execution_count": 10,
     "metadata": {},
     "output_type": "execute_result"
    }
   ],
   "source": [
    "cv2.imwrite(\"output.jpg\",input)"
   ]
  },
  {
   "cell_type": "code",
   "execution_count": 6,
   "metadata": {},
   "outputs": [],
   "source": [
    "# grascaleimage = cv2.cvtColor(input,cv2.COLOR_BGR2GRAY) # first method \n",
    "grascaleimage = cv2.imread(\"./Dev-S.jpg\",0) #secoend method\n",
    "cv2.imshow(\"gray_image\",grascaleimage)\n",
    "cv2.waitKey()\n",
    "cv2.destroyAllWindows()"
   ]
  },
  {
   "cell_type": "code",
   "execution_count": 12,
   "metadata": {},
   "outputs": [
    {
     "name": "stdout",
     "output_type": "stream",
     "text": [
      "200 161 99\n",
      "(426, 900, 3)\n",
      "(426, 900)\n"
     ]
    }
   ],
   "source": [
    "# #color spaces\n",
    "# # RGB,HSV,CMYK\n",
    "# hue = 0-179\n",
    "# saturation = 0-255\n",
    "# value = 0-255\n",
    "B,G,R = input[0,0]\n",
    "print (B,G,R)\n",
    "print (input.shape)\n",
    "print(grascaleimage.shape)"
   ]
  },
  {
   "cell_type": "code",
   "execution_count": 13,
   "metadata": {},
   "outputs": [],
   "source": [
    "hsv_image = cv2.cvtColor(input,cv2.COLOR_BGR2HSV)\n",
    "cv2.imshow(\"hsv_image\",hsv_image)\n",
    "cv2.waitKey()\n",
    "cv2.destroyAllWindows()"
   ]
  },
  {
   "cell_type": "code",
   "execution_count": 4,
   "metadata": {},
   "outputs": [],
   "source": [
    "zeros = np.zeros(input.shape[:2],dtype = \"uint8\")\n",
    "cv2.imshow(\"zeros\",zeros)\n",
    "cv2.waitKey()\n",
    "cv2.destroyAllWindows()"
   ]
  },
  {
   "cell_type": "code",
   "execution_count": 6,
   "metadata": {},
   "outputs": [],
   "source": [
    "black_image = np.zeros((512,512,3) , dtype = \"uint8\")\n",
    "cv2.line(black_image,(0,0),(511,511),(255,0,0),3) #input,start,end,color,thickness\n",
    "cv2.rectangle(black_image, (384,0),(510,128),(0,255,0),3) #input,startposition,endposition,color,thickness\n",
    "cv2.circle(black_image,(447,63),63,(0,0,255),-1) # input ,center,radius,color, thickneess\n",
    "\n",
    "cv2.imshow(\"shapes\",black_image)\n",
    "cv2.waitKey()\n",
    "cv2.destroyAllWindows()"
   ]
  },
  {
   "cell_type": "code",
   "execution_count": 9,
   "metadata": {},
   "outputs": [],
   "source": [
    "points = np.array([[100,50],[200,300],[500,200],[300,100]],np.int32)\n",
    "points = points.reshape((-1,1,2))\n",
    "cv2.polylines(black_image,[points],True,(0,255,255))\n",
    "cv2.imshow(\"polygon\",black_image)\n",
    "cv2.waitKey()\n",
    "cv2.destroyAllWindows()"
   ]
  },
  {
   "cell_type": "code",
   "execution_count": 10,
   "metadata": {},
   "outputs": [],
   "source": [
    "# putting text \n",
    "# syntax\n",
    "# cv2.putText( image,text,bottom left strating point,font,fontsize,color,thickness)\n",
    "cv2.putText(black_image,\"Hello\",(300,300),cv2.FONT_HERSHEY_SIMPLEX,1,(0,150,0),2)\n",
    "\n",
    "cv2.imshow(\"text\",black_image)\n",
    "cv2.waitKey()\n",
    "cv2.destroyAllWindows()"
   ]
  },
  {
   "cell_type": "markdown",
   "metadata": {},
   "source": [
    "# image manipulating"
   ]
  },
  {
   "cell_type": "code",
   "execution_count": 3,
   "metadata": {},
   "outputs": [],
   "source": [
    "# transformations of image \n",
    "# affine transformation scaling,rotation and translation\n",
    "# non Affine transformation changing viewport \n",
    "\n",
    "image = cv2.imread(\"./Dev-S.jpg\")\n",
    "h,w = image.shape[:2]\n",
    "q_h,q_w = h/4,w/4\n",
    "translation_matrix = np.float32([[1,0,q_w],[0,1,q_h]])\n",
    "translated_image = cv2.warpAffine(image,translation_matrix,(w,h))\n",
    "cv2.imshow(\"translation\",translated_image)\n",
    "cv2.waitKey()\n",
    "cv2.destroyAllWindows()"
   ]
  },
  {
   "cell_type": "code",
   "execution_count": 5,
   "metadata": {},
   "outputs": [
    {
     "data": {
      "text/plain": [
       "array([[  1. ,   0. , 225. ],\n",
       "       [  0. ,   1. , 106.5]], dtype=float32)"
      ]
     },
     "execution_count": 5,
     "metadata": {},
     "output_type": "execute_result"
    }
   ],
   "source": [
    "translation_matrix"
   ]
  },
  {
   "cell_type": "code",
   "execution_count": 4,
   "metadata": {},
   "outputs": [],
   "source": [
    "# rotations\n",
    "rotation_matrix = cv2.getRotationMatrix2D((w/2,h/2),60,0.5) # w/2 and h/2 = center of the image ,angle,scaling factor\n",
    "rotated_image = cv2.warpAffine(image,rotation_matrix,(w,h))\n",
    "\n",
    "cv2.imshow(\"rotation\",rotated_image)\n",
    "cv2.waitKey()\n",
    "cv2.destroyAllWindows()\n"
   ]
  },
  {
   "cell_type": "code",
   "execution_count": 10,
   "metadata": {},
   "outputs": [],
   "source": [
    "# transpose function rotate method 2 with no lack space\n",
    "rotated_image = cv2.transpose(image)\n",
    "cv2.imshow(\"transpose\",rotated_image)\n",
    "cv2.waitKey()\n",
    "cv2.destroyAllWindows()"
   ]
  },
  {
   "cell_type": "code",
   "execution_count": 17,
   "metadata": {},
   "outputs": [],
   "source": [
    "# resizing image interpolation for using generate pixels \n",
    "# cv2.INTER_AREA - good for shrinking or down sampling\n",
    "# cv2.INTER_CUBIC - better\n",
    "# cv2.INTER_LINEAR - good for zooming or up sampling\n",
    "# cv2.INTER_NEAREST - fastest\n",
    "# cv2.INTER_LANCZOS4 - best\n",
    "\n",
    "# cv2.resize(image,dsize(output image size).x scale,y scale,interpolation)\n",
    "\n",
    "resized_image = cv2.resize(image,None,fx=0.5,fy=0.5)\n",
    "resized_imagewinter = cv2.resize(image,None,fx=0.5,fy=0.5,interpolation=cv2.INTER_CUBIC)\n",
    "resized_imagecust = cv2.resize(image,(500,600),fx=0.5,fy=0.5,interpolation=cv2.INTER_AREA)\n",
    "cv2.imshow(\"resized\",resized_imagecust)\n",
    "cv2.waitKey()\n",
    "cv2.destroyAllWindows()\n"
   ]
  },
  {
   "cell_type": "code",
   "execution_count": 27,
   "metadata": {},
   "outputs": [],
   "source": [
    "# image cropping\n",
    "#(x1, y1) is the top-left corner, and (x2, y2) is the bottom-right corner\n",
    "# format = y1:y2, x1:x2\n",
    "# x1, y1, x2, y2 \n",
    "cropped_image = image[100:400,100:400] \n",
    "cv2.imshow(\"cropped\",cropped_image)\n",
    "cv2.waitKey()\n",
    "cv2.destroyAllWindows()"
   ]
  }
 ],
 "metadata": {
  "kernelspec": {
   "display_name": "cv",
   "language": "python",
   "name": "python3"
  },
  "language_info": {
   "codemirror_mode": {
    "name": "ipython",
    "version": 3
   },
   "file_extension": ".py",
   "mimetype": "text/x-python",
   "name": "python",
   "nbconvert_exporter": "python",
   "pygments_lexer": "ipython3",
   "version": "3.11.4"
  }
 },
 "nbformat": 4,
 "nbformat_minor": 2
}
