{
 "cells": [
  {
   "cell_type": "code",
   "execution_count": 1,
   "metadata": {},
   "outputs": [],
   "source": [
    "import numpy as np \n",
    "import matplotlib.pyplot as plt\n",
    "import cv2"
   ]
  },
  {
   "cell_type": "code",
   "execution_count": 2,
   "metadata": {},
   "outputs": [],
   "source": [
    "image = cv2.imread(\"./Dev-S.jpg\")\n"
   ]
  },
  {
   "cell_type": "code",
   "execution_count": 3,
   "metadata": {},
   "outputs": [],
   "source": [
    "#blur functions\n",
    "# averaging done by convolving the image with a normalized box filter this takes the pixels under the box and replaces the central  element \n",
    "blur = cv2.blur(image,(3,3))\n",
    "cv2.imshow('averaging',image)\n",
    "cv2.waitKey(0)\n",
    "#gaussian blurring\n",
    "gaussian = cv2.GaussianBlur(image,(3,3),0)\n",
    "cv2.imshow('gaussian',image)\n",
    "cv2.waitKey(0)\n",
    "#median blurringtakes median of all pixelunder the kernel area and central\n",
    "median = cv2.medianBlur(image,5)\n",
    "cv2.imshow('median',image)\n",
    "cv2.waitKey(0)\n",
    "#bilateral blurring is a very effective noise removal while keeping edges sharp\n",
    "bilateral = cv2.bilateralFilter(image,10,35,35)\n",
    "cv2.imshow('bilateral',image)\n",
    "cv2.waitKey(0)\n",
    "cv2.destroyAllWindows()"
   ]
  },
  {
   "cell_type": "code",
   "execution_count": 4,
   "metadata": {},
   "outputs": [],
   "source": [
    "dst = cv2.fastNlMeansDenoisingColored(image,None,6,6,7,21)\n",
    "cv2.imshow('dst',dst)\n",
    "cv2.waitKey(0)\n",
    "cv2.destroyAllWindows()"
   ]
  },
  {
   "cell_type": "code",
   "execution_count": 6,
   "metadata": {},
   "outputs": [],
   "source": [
    "# sharpening\n",
    "# Sharpening is the opposite of blurring it strengthens edges in an image  .\n",
    "# our kernel matrix sums to one so there is no need to normaliize (ie: multiply by factor to retain the same brightness of the original)\n",
    "kernel = np.array([[-1,-1,-1],[-1,9,-1],[-1,-1,-1]])\n",
    "sharpened = cv2.filter2D(image ,-1,kernel)\n",
    "cv2.imshow('sharpened',sharpened)\n",
    "cv2.waitKey(0)\n",
    "cv2.destroyAllWindows()\n"
   ]
  },
  {
   "cell_type": "code",
   "execution_count": 7,
   "metadata": {},
   "outputs": [],
   "source": [
    "# thresholding\n",
    "# Thresholding is act of converting an image to a binary form .\n",
    "# you need to be convert to grayscale before use threshold\n",
    "# cv2.THRESH_BINARY\n",
    "image_gray = cv2.imread(\"./Dev-S.jpg\",0)\n",
    "\n",
    "ret, thresh1 = cv2.threshold(image_gray, 127,255, cv2.THRESH_BINARY)\n",
    "cv2.imshow('thresh1',thresh1)\n",
    "# cv2.THRESH_BINARY_INV\n",
    "ret, thresh2 = cv2.threshold(image_gray, 127,255, cv2.THRESH_BINARY_INV)\n",
    "cv2.imshow('thresh2',thresh2)\n",
    "# cv2.THRESH_TRUNC\n",
    "ret, thresh3 = cv2.threshold(image_gray, 127,255, cv2.THRESH_TRUNC)\n",
    "cv2.imshow('thresh3',thresh3)\n",
    "# cv2.THRESH_TOZERO\n",
    "ret, thresh4 = cv2.threshold(image_gray, 127,255, cv2.THRESH_TOZERO)\n",
    "cv2.imshow('thresh4',thresh4)\n",
    "# cv2.THRESH_TOZERO_INV\n",
    "ret, thresh5 = cv2.threshold(image_gray, 127,255, cv2.THRESH_TOZERO_INV)\n",
    "cv2.imshow('thresh5',thresh5)\n",
    "cv2.waitKey(0)\n",
    "cv2.destroyAllWindows()\n",
    "\n"
   ]
  },
  {
   "cell_type": "code",
   "execution_count": null,
   "metadata": {},
   "outputs": [],
   "source": [
    "#adaptive threshold\n",
    "image_blur = cv2.GaussianBlur(image,(3,3),0)\n",
    "ret,thresh1 = cv2.adaptiveThreshold(image_blur,255,cv2.ADAPTIVE_THRESH_MEAN_C,cv2.THRESH_BINARY,3,5)\n",
    "cv2.imshow('thresh1',thresh1)\n",
    "cv2.waitKey(0)\n",
    "ret, thresh2 = cv2.threshold(image,0,255,cv2.THRESH_BINARY+cv2.THRESH_OTSU)\n",
    "cv2.imshow('Otsu',thresh2)\n",
    "cv2.waitKey(0)\n",
    "#otsus thresholding after gaussian blur\n",
    "blur = cv2.GaussianBlur(image,(3,3),0)\n",
    "ret, thresh3 = cv2.threshold(blur,0,255,cv2.THRESH_BINARY+cv2.THRESH_OTSU)\n",
    "cv2.imshow('gaussina Otsu',thresh3)\n",
    "cv2.waitKey(0)\n",
    "cv2.destroyAllWindows()"
   ]
  },
  {
   "cell_type": "code",
   "execution_count": 14,
   "metadata": {},
   "outputs": [],
   "source": [
    "# erosion and dilation\n",
    "kernel = np.ones((5,5),np.uint8)\n",
    "erosion = cv2.erode(image,kernel,iterations = 1)\n",
    "dilation = cv2.dilate(image,kernel,iterations = 1)\n",
    "cv2.imshow('erosion',erosion)\n",
    "cv2.imshow('dilation',dilation)\n",
    "cv2.waitKey(0)\n",
    "cv2.destroyAllWindows()"
   ]
  },
  {
   "cell_type": "code",
   "execution_count": 15,
   "metadata": {},
   "outputs": [],
   "source": [
    "#edge detection \n",
    "sobel_x = cv2.Sobel(image,cv2.CV_64F,0,1,ksize=5)\n",
    "sobel_y = cv2.Sobel(image,cv2.CV_64F,1,0,ksize=5)\n",
    "\n",
    "cv2.imshow('sobel_x',sobel_x)\n",
    "cv2.imshow('sobel_y',sobel_y)\n",
    "cv2.waitKey(0)\n",
    "sobel_or = cv2.bitwise_or(sobel_x,sobel_y)\n",
    "cv2.imshow('sobel_or',sobel_or)\n",
    "cv2.waitKey(0)\n",
    "\n",
    "laplacian = cv2.Laplacian(image,cv2.CV_64F)\n",
    "cv2.imshow('laplacian',laplacian)\n",
    "cv2.waitKey(0)\n",
    "\n",
    "canny = cv2.Canny(image,100,200)\n",
    "cv2.imshow('canny',canny)\n",
    "cv2.waitKey(0)\n",
    "cv2.destroyAllWindows()"
   ]
  },
  {
   "cell_type": "code",
   "execution_count": null,
   "metadata": {},
   "outputs": [],
   "source": [
    "# perspective transforms\n"
   ]
  }
 ],
 "metadata": {
  "kernelspec": {
   "display_name": "cv",
   "language": "python",
   "name": "python3"
  },
  "language_info": {
   "codemirror_mode": {
    "name": "ipython",
    "version": 3
   },
   "file_extension": ".py",
   "mimetype": "text/x-python",
   "name": "python",
   "nbconvert_exporter": "python",
   "pygments_lexer": "ipython3",
   "version": "3.11.4"
  }
 },
 "nbformat": 4,
 "nbformat_minor": 2
}
